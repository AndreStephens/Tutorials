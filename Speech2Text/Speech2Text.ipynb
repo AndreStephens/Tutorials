{
 "cells": [
  {
   "cell_type": "markdown",
   "metadata": {},
   "source": [
    "# Automated Speech-to-Text Transcription\n",
    "\n",
    "UX researchers and enthnogoraphers frequently conduct interviews in order to gather data. However, audio recordings are extremely tedious and costly to transcribe. Many might be surprised to learn that the first completely-automatic translation was done all the way back in 1954. Although it was limited (with a mere six grammar rules and 250 lexical items in its vocabulary), the experiment developed jointly by Georgetown University and IBM translated more than sixty Russian sentences into English. Interestingly enought, Leon Dostert, one of the scientists involved in the experiment, predicted that generalized machine translation would be realized in \"five, perhaps, three years\" <sup>[1](#myfootnote1)</sup>. Alas, progress was more slower than the sanguine scientist suggested.\n",
    "\n",
    "Advancements in machine learning and the exponential growth in computating power, however, have finally made machine translation a reality, albeit a perfectible one. Powered by the same speech recognition technology that works on your android and Chrome OS devices, the Google Cloud Platform provides the best speech-to-text conversion tool available today. And it's practically free! Audio recordings under 60 minutes are free and recordings over 60 minutes are USD$0.024/minute. A three-hour interview would therefore cost you only $4.32. And what's to stop you from [splitting the audio file](https://www.cnet.com/news/how-to-split-audio-tracks/) into 3 or 4 chunks?\n",
    "\n",
    "I am going to show you how -- with little to no computing experience -- you can use it right now!\n",
    "\n",
    "Let's get to it...\n",
    "\n",
    "## Pre-processing\n",
    "\n",
    "The Speech-to-Text API has certain requirements in order to work. The audio must be. I will on a script for doing this conversion in another tutorial to come."
   ]
  },
  {
   "cell_type": "markdown",
   "metadata": {},
   "source": [
    "###### References\n",
    "\n",
    "<a name=\"myfootnote1\">1</a>: Hutchins (2004). [\"The Georgetown-IBM Experiment Demonstrated in January 1954.\"](http://www.hutchinsweb.me.uk/AMTA-2004.pdf) in *Machine Translation: From Real Users to Research*, pp 102-114."
   ]
  },
  {
   "cell_type": "code",
   "execution_count": null,
   "metadata": {
    "collapsed": true
   },
   "outputs": [],
   "source": []
  }
 ],
 "metadata": {
  "kernelspec": {
   "display_name": "Python 2",
   "language": "python",
   "name": "python2"
  },
  "language_info": {
   "codemirror_mode": {
    "name": "ipython",
    "version": 2
   },
   "file_extension": ".py",
   "mimetype": "text/x-python",
   "name": "python",
   "nbconvert_exporter": "python",
   "pygments_lexer": "ipython2",
   "version": "2.7.10"
  }
 },
 "nbformat": 4,
 "nbformat_minor": 0
}
